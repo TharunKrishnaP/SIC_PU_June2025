{
 "cells": [
  {
   "cell_type": "code",
   "execution_count": 2,
   "id": "1a05a9c8-edea-4eea-8ee7-d39ced2077f1",
   "metadata": {},
   "outputs": [
    {
     "name": "stdout",
     "output_type": "stream",
     "text": [
      "Welcome\n"
     ]
    }
   ],
   "source": [
    "print(\"Welcome\")"
   ]
  },
  {
   "cell_type": "code",
   "execution_count": 3,
   "id": "296202e6-fd01-46d3-82eb-f37f52165eca",
   "metadata": {},
   "outputs": [
    {
     "name": "stdout",
     "output_type": "stream",
     "text": [
      "Hello World!\n",
      "Hello World!\n"
     ]
    }
   ],
   "source": [
    "print(\"Hello World!\")\n",
    "print(\"Hello World!\")"
   ]
  },
  {
   "cell_type": "code",
   "execution_count": 5,
   "id": "afbd59a8-4d35-4051-8109-80ab19ddea74",
   "metadata": {},
   "outputs": [
    {
     "name": "stdout",
     "output_type": "stream",
     "text": [
      "10 7.5\n"
     ]
    }
   ],
   "source": [
    "print(10,7.5)"
   ]
  },
  {
   "cell_type": "code",
   "execution_count": 6,
   "id": "73e7045d-b44e-4742-a6ff-0a5af71e8d8a",
   "metadata": {},
   "outputs": [
    {
     "name": "stdout",
     "output_type": "stream",
     "text": [
      "6.3\n",
      "8.58\n"
     ]
    }
   ],
   "source": [
    "print(10-3.7)\n",
    "print(5+3.58)"
   ]
  },
  {
   "cell_type": "code",
   "execution_count": 7,
   "id": "5edbae15-1b57-4d1f-b8f4-518eef465296",
   "metadata": {},
   "outputs": [
    {
     "name": "stdout",
     "output_type": "stream",
     "text": [
      "Hello\n",
      "World!\n"
     ]
    }
   ],
   "source": [
    "# \\n splits the statements to next line\n",
    "print(\"Hello\\nWorld!\")"
   ]
  },
  {
   "cell_type": "code",
   "execution_count": 9,
   "id": "fd578d5d-392d-49df-94d4-2714cfd28209",
   "metadata": {},
   "outputs": [
    {
     "name": "stdout",
     "output_type": "stream",
     "text": [
      "Hello \n",
      "World!\n"
     ]
    }
   ],
   "source": [
    "#if string is split in two lines, use triple quotes\n",
    "print('''Hello \n",
    "World!''')"
   ]
  },
  {
   "cell_type": "code",
   "execution_count": 22,
   "id": "5e7a7559-d578-4b61-832c-8b5629e87f44",
   "metadata": {},
   "outputs": [
    {
     "name": "stdout",
     "output_type": "stream",
     "text": [
      "Hello I'm Tharun Krishna\n"
     ]
    }
   ],
   "source": [
    "#String is broken in two lines but for output in single line use '\\' in first line\n",
    "print('''Hello \\\n",
    "I'm Tharun Krishna''')"
   ]
  },
  {
   "cell_type": "code",
   "execution_count": 24,
   "id": "d9506539-e531-4411-bf79-444210e863ed",
   "metadata": {},
   "outputs": [
    {
     "name": "stdout",
     "output_type": "stream",
     "text": [
      "Tharun Krishna\n",
      "55\n"
     ]
    }
   ],
   "source": [
    "#Plus  '+' operator\n",
    "print(\"Tharun \" + \"Krishna\")   # Concatenation\n",
    "print(10+45)                   # Addition"
   ]
  },
  {
   "cell_type": "code",
   "execution_count": 25,
   "id": "3acb47d5-6831-4f7b-a94c-969e15963a3f",
   "metadata": {},
   "outputs": [],
   "source": [
    "#Conactenation can be done only for string and string. Otherwise it shows error"
   ]
  },
  {
   "cell_type": "code",
   "execution_count": 26,
   "id": "c4776933-e9be-426d-8f78-8983d548cdd6",
   "metadata": {},
   "outputs": [
    {
     "name": "stdout",
     "output_type": "stream",
     "text": [
      "Hi Hi Hi Hi Hi Hi Hi \n"
     ]
    }
   ],
   "source": [
    "#  * operator\n",
    "print(\"Hi \" *7)"
   ]
  },
  {
   "cell_type": "code",
   "execution_count": 29,
   "id": "fb89ae5d-245e-41bc-a863-9f92ee9c4561",
   "metadata": {},
   "outputs": [
    {
     "name": "stdout",
     "output_type": "stream",
     "text": [
      "hello World!\n",
      "hello=World!\n"
     ]
    }
   ],
   "source": [
    "# end statement - Separates two strings in diff print statements\n",
    "print(\"hello\",end=' ')\n",
    "print(\"World!\")\n",
    "print(\"hello\",end='=')\n",
    "print(\"World!\")"
   ]
  },
  {
   "cell_type": "code",
   "execution_count": 31,
   "id": "5e37bd21-92f0-4fa7-9bbf-ecfa64ccbc94",
   "metadata": {},
   "outputs": [
    {
     "name": "stdout",
     "output_type": "stream",
     "text": [
      "Hello & World\n"
     ]
    }
   ],
   "source": [
    "# Split statement - Similar to 'end' but works for single print statement\n",
    "print(\"Hello\", \"World\", sep=' & ')"
   ]
  },
  {
   "cell_type": "code",
   "execution_count": 35,
   "id": "526126d8-6753-4421-904e-430e1040865e",
   "metadata": {},
   "outputs": [
    {
     "name": "stdout",
     "output_type": "stream",
     "text": [
      "Resume\n",
      "------------------------------\n",
      "Name: Tharun Krishna\n",
      "Age: 20\n",
      "Job: Secret\n",
      "Address: Bangalore, India \n",
      "Place of Birth: Tamil Nadu, India\n",
      "****************************** \n",
      "The End\n"
     ]
    }
   ],
   "source": [
    "# Create a resume\n",
    "\n",
    "print(\"Resume\")\n",
    "print(\"-\"*30)\n",
    "print(\"Name: Tharun Krishna\")\n",
    "print(\"Age: 20\")\n",
    "print(\"Job: Secret\")\n",
    "print(\"Address: Bangalore, India \\nPlace of Birth: Tamil Nadu, India\")\n",
    "print(\"*\" * 30, \"\\nThe End\")"
   ]
  },
  {
   "cell_type": "code",
   "execution_count": 73,
   "id": "e3802b71-3284-40eb-a7af-4daf8bce02bb",
   "metadata": {},
   "outputs": [
    {
     "name": "stdout",
     "output_type": "stream",
     "text": [
      " 5\n"
     ]
    },
    {
     "name": "stdout",
     "output_type": "stream",
     "text": [
      "      \n",
      "     *\n",
      "    ***\n",
      "   *****\n",
      "  *******\n",
      " *********\n",
      "******\n",
      " *****\n",
      "   ****\n",
      "     ***\n",
      "       **\n",
      "         *\n"
     ]
    }
   ],
   "source": [
    "n=int(input())\n",
    "for i in range(n+1):\n",
    "    print(\" \"*(n-i+1),end='')\n",
    "    print(\"*\"*(2*i-1))\n",
    "for i in range(n+1):\n",
    "    print(\" \"*(2*i-1),end='')\n",
    "    print(\"*\"*(n-i+1))"
   ]
  },
  {
   "cell_type": "code",
   "execution_count": 2,
   "id": "39723680-575f-4414-b838-7e2f287e09d6",
   "metadata": {},
   "outputs": [
    {
     "name": "stdout",
     "output_type": "stream",
     "text": [
      " 4\n"
     ]
    },
    {
     "name": "stdout",
     "output_type": "stream",
     "text": [
      "     \n",
      "    *\n",
      "   ***\n",
      "  *****\n",
      " *******\n",
      "*********\n",
      " *******\n",
      "  *****\n",
      "   ***\n",
      "    *\n",
      "     "
     ]
    }
   ],
   "source": [
    "n=int(input())\n",
    "for i in range(n+1):\n",
    "    print(\" \"*(n-i+1),end='')\n",
    "    print(\"*\"*(2*i-1))\n",
    "for i in range(n+1):\n",
    "    print(\"*\"*(2*(n-i)+1))\n",
    "    print(\" \"*(i+1),end='')"
   ]
  },
  {
   "cell_type": "code",
   "execution_count": null,
   "id": "538bff96-e6f2-4186-b17b-0f51e059069a",
   "metadata": {},
   "outputs": [],
   "source": [
    "#June 11 2025"
   ]
  },
  {
   "cell_type": "code",
   "execution_count": 3,
   "id": "77c12af2-f1f5-4c80-984c-1a556fd89ddd",
   "metadata": {},
   "outputs": [
    {
     "name": "stdout",
     "output_type": "stream",
     "text": [
      "100\n",
      "5050\n"
     ]
    }
   ],
   "source": [
    "a=50\n",
    "b=\"50\"\n",
    "print(a+int(b))\n",
    "print(str(a)+b)"
   ]
  },
  {
   "cell_type": "code",
   "execution_count": 4,
   "id": "9fe00399-0a55-49f5-b03e-fb048d333791",
   "metadata": {},
   "outputs": [
    {
     "name": "stdout",
     "output_type": "stream",
     "text": [
      "1000\n"
     ]
    }
   ],
   "source": [
    "print(int(\"1\"+\"0\"*3))"
   ]
  },
  {
   "cell_type": "code",
   "execution_count": 8,
   "id": "d97a5f87-8061-4bda-8c8a-cccfad92e128",
   "metadata": {},
   "outputs": [
    {
     "name": "stdout",
     "output_type": "stream",
     "text": [
      "Enter radius:  100\n"
     ]
    },
    {
     "name": "stdout",
     "output_type": "stream",
     "text": [
      "Area =  31400.0\n",
      "Circumference:  628.0\n"
     ]
    }
   ],
   "source": [
    "pi=3.14\n",
    "r=int(input(\"Enter radius: \"))\n",
    "area=pi*r**2\n",
    "cf=2*pi*r\n",
    "print(\"Area = \",area)\n",
    "print(\"Circumference: \",cf)"
   ]
  },
  {
   "cell_type": "code",
   "execution_count": 14,
   "id": "55672ae6-ea15-4de6-860a-96cc197daf18",
   "metadata": {},
   "outputs": [
    {
     "name": "stdout",
     "output_type": "stream",
     "text": [
      "<class 'int'>\n",
      "<class 'str'>\n",
      "<class 'float'>\n",
      "<class 'complex'>\n"
     ]
    }
   ],
   "source": [
    "print(type(100))\n",
    "print(type(\"Str\"))\n",
    "print(type(2452.25515))\n",
    "print(type(25+8j))"
   ]
  },
  {
   "cell_type": "code",
   "execution_count": 1,
   "id": "fc5cdd9a-e22b-4710-9928-7e47af31a23e",
   "metadata": {},
   "outputs": [
    {
     "name": "stdout",
     "output_type": "stream",
     "text": [
      "Enter input:  258 852\n"
     ]
    },
    {
     "name": "stdout",
     "output_type": "stream",
     "text": [
      "Palindrome\n"
     ]
    }
   ],
   "source": [
    "#Palindrome\n",
    "a=input(\"Enter input: \").lower().strip()\n",
    "if a[::]==a[::-1] : print(\"Palindrome\")\n",
    "else: print(\"Not a palindrome\")"
   ]
  },
  {
   "cell_type": "code",
   "execution_count": 3,
   "id": "799a2570-fd79-49cb-9464-470fc447aae2",
   "metadata": {},
   "outputs": [
    {
     "name": "stdout",
     "output_type": "stream",
     "text": [
      "Enter array with spaces:  45 14 20 36 97 85 60\n"
     ]
    },
    {
     "name": "stdout",
     "output_type": "stream",
     "text": [
      "Sorted array:  [14, 20, 36, 45, 60, 85, 97]\n"
     ]
    }
   ],
   "source": [
    "#Insertion sort - Decrease n Conquer\n",
    "arr=list(map(int,input(\"Enter array with spaces: \").split()))\n",
    "for i in range(1,len(arr)):\n",
    "    min=arr[i]\n",
    "    j=i-1\n",
    "    while j>=0 and arr[j] > min:\n",
    "        arr[j+1]=arr[j]\n",
    "        j-=1\n",
    "    arr[j+1]=min\n",
    "print(\"Sorted array: \",arr)"
   ]
  },
  {
   "cell_type": "code",
   "execution_count": 2,
   "id": "cb50f948-1384-42e0-a2af-80ab6b4935a5",
   "metadata": {},
   "outputs": [
    {
     "name": "stdout",
     "output_type": "stream",
     "text": [
      "Enter term no:  5\n"
     ]
    },
    {
     "name": "stdout",
     "output_type": "stream",
     "text": [
      "3\n"
     ]
    }
   ],
   "source": [
    "#Fibbonacci by Divide n Conquer\n",
    "f=[0,1]\n",
    "n=int(input(\"Enter term no: \"))-1\n",
    "for i in range(2,n+1):\n",
    "    f.append(f[i-1] + f[i-2])\n",
    "print(f[n])"
   ]
  },
  {
   "cell_type": "code",
   "execution_count": 54,
   "id": "e777a035-966f-4cce-95be-2afd1be92043",
   "metadata": {},
   "outputs": [
    {
     "name": "stdout",
     "output_type": "stream",
     "text": [
      "Enter array:  45 14 20 36 97 85 60\n",
      "Enter key:  36\n"
     ]
    },
    {
     "name": "stdout",
     "output_type": "stream",
     "text": [
      "Key found at position  3\n"
     ]
    }
   ],
   "source": [
    "#Binary Search - Divide n Conquer\n",
    "a=list(map(int,input(\"Enter array: \").split()))\n",
    "key=int(input(\"Enter key: \"))\n",
    "l=0\n",
    "r=len(a)-1\n",
    "while l<=r:\n",
    "    mid=int((l+r)/2)\n",
    "    if a[mid]==key:\n",
    "        print(\"Key found at position \",mid)\n",
    "        break\n",
    "    elif a[mid]<key:\n",
    "        l=mid+1\n",
    "    else: r=mid-1"
   ]
  },
  {
   "cell_type": "code",
   "execution_count": 8,
   "id": "a79ff2d0-167a-4a58-afb8-fce0450d48f2",
   "metadata": {},
   "outputs": [
    {
     "name": "stdout",
     "output_type": "stream",
     "text": [
      "Enter no. :  4\n"
     ]
    },
    {
     "name": "stdout",
     "output_type": "stream",
     "text": [
      "24\n"
     ]
    }
   ],
   "source": [
    "# Factorial\n",
    "n=int(input(\"Enter no. : \"))\n",
    "fact=1\n",
    "while n>0:\n",
    "    fact=fact*n\n",
    "    n-=1\n",
    "print(fact)"
   ]
  },
  {
   "cell_type": "code",
   "execution_count": 1,
   "id": "57f748f4-caa7-4717-b581-cb00b54cad95",
   "metadata": {},
   "outputs": [],
   "source": [
    "#  June 12 2025"
   ]
  },
  {
   "cell_type": "code",
   "execution_count": 12,
   "id": "d163a0f0-089c-4f19-a306-ab945886c4a7",
   "metadata": {},
   "outputs": [
    {
     "name": "stdout",
     "output_type": "stream",
     "text": [
      "No of keywords: 35\n",
      "['False', 'None', 'True', 'and', 'as', 'assert', 'async', 'await', 'break', 'class', 'continue', 'def', 'del', 'elif', 'else', 'except', 'finally', 'for', 'from', 'global', 'if', 'import', 'in', 'is', 'lambda', 'nonlocal', 'not', 'or', 'pass', 'raise', 'return', 'try', 'while', 'with', 'yield']\n"
     ]
    }
   ],
   "source": [
    "import keyword\n",
    "print(f\"No of keywords: {len(keyword.kwlist)}\")\n",
    "print(f\"{keyword.kwlist}\")"
   ]
  },
  {
   "cell_type": "code",
   "execution_count": 2,
   "id": "fe484424-c086-4891-947f-628115401632",
   "metadata": {},
   "outputs": [
    {
     "name": "stdout",
     "output_type": "stream",
     "text": [
      "Enter no. :  5\n"
     ]
    },
    {
     "name": "stdout",
     "output_type": "stream",
     "text": [
      "0\n",
      "1\n",
      "4\n",
      "9\n",
      "16\n"
     ]
    }
   ],
   "source": [
    "n = int(input(\"Enter no. : \"))\n",
    "for i in range(n):\n",
    "    print(i**2)"
   ]
  },
  {
   "cell_type": "code",
   "execution_count": 15,
   "id": "f1c469c4-7a21-42ae-a57c-bceaa43f2b03",
   "metadata": {},
   "outputs": [
    {
     "name": "stdout",
     "output_type": "stream",
     "text": [
      "Enter 3 digit lottery no. :  5 2 9\n"
     ]
    },
    {
     "name": "stdout",
     "output_type": "stream",
     "text": [
      "Cash prize Rs. 50,000\n"
     ]
    }
   ],
   "source": [
    " # Lottery ticket  -- Combination of 3 numbers\n",
    "# all 3 match - 1,00,000 ; any 2 match - 50,000 ; any 1 match - 25,000 ;\n",
    "n1, n2, n3 = 5, 7, 2\n",
    "n=0\n",
    "a, b, c = map(int, input(\"Enter 3 digit lottery no. : \").split())\n",
    "if a==n1 or b==n1 or c==n1:\n",
    "    n+=1\n",
    "if a == n2 or b == n2 or c == n2:\n",
    "    n+=1\n",
    "if a == n3 or b == n3 or c == n3:\n",
    "    n+=1\n",
    "if n==1:\n",
    "    print(\"Cash prize Rs. 25,000\")\n",
    "elif n==2:\n",
    "    print(\"Cash prize Rs. 50,000\")\n",
    "elif n==3:\n",
    "    print(\"Cash prize Rs. 1,00,000\")"
   ]
  },
  {
   "cell_type": "code",
   "execution_count": 25,
   "id": "ccc7dc55-9e72-495c-acb7-64a76640b519",
   "metadata": {},
   "outputs": [
    {
     "name": "stdout",
     "output_type": "stream",
     "text": [
      "Which side to attack? left/mid/right :  mid\n"
     ]
    },
    {
     "name": "stdout",
     "output_type": "stream",
     "text": [
      "That's a fantastic goal\n",
      "Computer defense position :  right\n"
     ]
    }
   ],
   "source": [
    "# PENALTY SHOOTOUT - Computer vs Player\n",
    "import random\n",
    "n = random.randint(1,3)\n",
    "if n == 1: comp_ch =\"left\"\n",
    "elif n == 2: comp_ch = \"mid\"\n",
    "else: comp_ch = \"right\"\n",
    "user_ch = input(\"Which side to attack? left/mid/right : \")\n",
    "if user_ch == comp_ch:\n",
    "    print(\"Goal missed! Better luck next time\")\n",
    "else: print(\"That's a fantastic goal\")\n",
    "print(\"Computer defense position : \",comp_ch)"
   ]
  },
  {
   "cell_type": "code",
   "execution_count": 22,
   "id": "0862f313-df7f-4560-831c-94962faa445b",
   "metadata": {},
   "outputs": [
    {
     "name": "stdout",
     "output_type": "stream",
     "text": [
      "Enter integer:  50\n"
     ]
    },
    {
     "name": "stdout",
     "output_type": "stream",
     "text": [
      "50 is a natural number\n"
     ]
    }
   ],
   "source": [
    "x = int(input(\"Enter integer: \"))\n",
    "if x>0:\n",
    "    print(f\"{x} is a natural number\")"
   ]
  },
  {
   "cell_type": "code",
   "execution_count": 20,
   "id": "b358844c-dc09-4632-8046-1c69c2335af6",
   "metadata": {},
   "outputs": [
    {
     "name": "stdout",
     "output_type": "stream",
     "text": [
      "Enter game score:  500\n"
     ]
    },
    {
     "name": "stdout",
     "output_type": "stream",
     "text": [
      "Game score =  500\n"
     ]
    }
   ],
   "source": [
    "score = int(input(\"Enter game score: \"))\n",
    "print(\"Game score = \", score)\n",
    "if score> 1000:\n",
    "    print(\"You are a master.\")"
   ]
  },
  {
   "cell_type": "code",
   "execution_count": 28,
   "id": "750fc653-bedb-4bfd-b6fd-9d133ba43d31",
   "metadata": {},
   "outputs": [
    {
     "name": "stdout",
     "output_type": "stream",
     "text": [
      "Enter your score:  95\n"
     ]
    },
    {
     "name": "stdout",
     "output_type": "stream",
     "text": [
      "Grade A+\n"
     ]
    }
   ],
   "source": [
    "score = int(input(\"Enter your score: \"))\n",
    "if score>=90:\n",
    "    print(\"Grade A+\")\n",
    "elif score>=80:\n",
    "    print(\"Grade A\")\n",
    "elif score>=70:\n",
    "    print(\"Grade B+\")\n",
    "elif score>=60:\n",
    "    print(\"Grade B\")\n",
    "elif score>=50:\n",
    "    print(\"Grade C+\")\n",
    "elif score>=40:\n",
    "    print(\"Grade C\")\n",
    "else: print(\"FAIL\")"
   ]
  },
  {
   "cell_type": "code",
   "execution_count": 32,
   "id": "6599f0bf-30cb-4ab2-8e2b-ffea29313de5",
   "metadata": {},
   "outputs": [
    {
     "name": "stdout",
     "output_type": "stream",
     "text": [
      "Enter alphabet:  A\n"
     ]
    },
    {
     "name": "stdout",
     "output_type": "stream",
     "text": [
      "Vowel\n"
     ]
    }
   ],
   "source": [
    "x = input(\"Enter alphabet: \").lower()\n",
    "if x in ('a','e','i','o','u') : \n",
    "    print(\"Vowel\")\n",
    "else: print(\"Consonant\")"
   ]
  },
  {
   "cell_type": "code",
   "execution_count": 34,
   "id": "2e1f9f99-85b9-4569-9001-7cfbbce528ca",
   "metadata": {},
   "outputs": [
    {
     "name": "stdout",
     "output_type": "stream",
     "text": [
      "Write two integers:  70 5\n"
     ]
    },
    {
     "name": "stdout",
     "output_type": "stream",
     "text": [
      "70 is a multiple of 5\n"
     ]
    }
   ],
   "source": [
    "a , b = map(int , input(\"Write two integers: \").split())\n",
    "if a%b==0:\n",
    "    print(f\"{a} is a multiple of {b}\")"
   ]
  },
  {
   "cell_type": "code",
   "execution_count": null,
   "id": "33cbd48a-2c21-4f42-b0a7-29bddfed5e33",
   "metadata": {},
   "outputs": [],
   "source": [
    "# June 13 2025"
   ]
  },
  {
   "cell_type": "code",
   "execution_count": 3,
   "id": "5e3fdd06-f2d8-4707-b3ea-fb5af34719af",
   "metadata": {},
   "outputs": [
    {
     "name": "stdout",
     "output_type": "stream",
     "text": [
      " qA2\n"
     ]
    },
    {
     "name": "stdout",
     "output_type": "stream",
     "text": [
      "True\n",
      "True\n",
      "True\n",
      "True\n",
      "True\n"
     ]
    }
   ],
   "source": [
    "s = input()\n",
    "print(any(i.isalnum() for i in s))    #Alphanumeric\n",
    "print(any(i.isalpha() for i in s))    #Alphabets\n",
    "print(any(i.isnumeric() for i in s))  #Numbers\n",
    "print(any(i.islower() for i in s))    #Lowercase\n",
    "print(any(i.isupper() for i in s))    #Uppercase\n",
    "\n",
    "# any() function can be used to check this type problem"
   ]
  },
  {
   "cell_type": "code",
   "execution_count": 18,
   "id": "eedbe390-4edb-4fac-90d8-aa282c1890dd",
   "metadata": {},
   "outputs": [
    {
     "name": "stdout",
     "output_type": "stream",
     "text": [
      " 5\n"
     ]
    },
    {
     "name": "stdout",
     "output_type": "stream",
     "text": [
      "    H    \n",
      "   HHH   \n",
      "  HHHHH  \n",
      " HHHHHHH \n",
      "HHHHHHHHH\n",
      "  HHHHH               HHHHH             \n",
      "  HHHHH               HHHHH             \n",
      "  HHHHH               HHHHH             \n",
      "  HHHHH               HHHHH             \n",
      "  HHHHH               HHHHH             \n",
      "  HHHHH               HHHHH             \n",
      "  HHHHHHHHHHHHHHHHHHHHHHHHH   \n",
      "  HHHHHHHHHHHHHHHHHHHHHHHHH   \n",
      "  HHHHHHHHHHHHHHHHHHHHHHHHH   \n",
      "  HHHHH               HHHHH             \n",
      "  HHHHH               HHHHH             \n",
      "  HHHHH               HHHHH             \n",
      "  HHHHH               HHHHH             \n",
      "  HHHHH               HHHHH             \n",
      "  HHHHH               HHHHH             \n",
      "                    HHHHHHHHH \n",
      "                     HHHHHHH  \n",
      "                      HHHHH   \n",
      "                       HHH    \n",
      "                        H     \n"
     ]
    }
   ],
   "source": [
    "n = int(input()) #This must be an odd number\n",
    "c = 'H'\n",
    "\n",
    "#Top Cone\n",
    "for i in range(n):\n",
    "    print((c*i).rjust(n-1) + c + (c*i).ljust(n-1))\n",
    "\n",
    "#Top Pillars\n",
    "for i in range(n+1):\n",
    "    print((c*n).center(n*2) + (c*n).center(n*6))\n",
    "\n",
    "#Middle Belt\n",
    "for i in range((n+1)//2):\n",
    "    print((c*n*5).center(n*6))    \n",
    "\n",
    "#Bottom Pillars\n",
    "for i in range(n+1):\n",
    "    print((c*n).center(n*2) + (c*n).center(n*6))    \n",
    "\n",
    "#Bottom Cone\n",
    "for i in range(n):\n",
    "    print(((c*(n-i-1)).rjust(n) + c + (c*(n-i-1)).ljust(n)).rjust(n*6))"
   ]
  },
  {
   "cell_type": "code",
   "execution_count": 14,
   "id": "532d5a99-7d71-469c-989f-fc1de369e96b",
   "metadata": {},
   "outputs": [
    {
     "name": "stdout",
     "output_type": "stream",
     "text": [
      " hdgnsetn\n",
      " 4\n"
     ]
    },
    {
     "name": "stdout",
     "output_type": "stream",
     "text": [
      "hdgn\n",
      "setn\n"
     ]
    }
   ],
   "source": [
    "# String formatting - Text Wrap\n",
    "import textwrap\n",
    "st = input()\n",
    "n = int(input())\n",
    "print(textwrap.fill(st,n))"
   ]
  },
  {
   "cell_type": "code",
   "execution_count": 13,
   "id": "462598a1-d225-4f79-8f33-8b93a86ac828",
   "metadata": {
    "scrolled": true
   },
   "outputs": [
    {
     "name": "stdout",
     "output_type": "stream",
     "text": [
      "Enter built-in module name:  random\n"
     ]
    },
    {
     "name": "stdout",
     "output_type": "stream",
     "text": [
      "BPF 53\n",
      "LOG4 1.3862943611198906\n",
      "NV_MAGICCONST 1.7155277699214135\n",
      "RECIP_BPF 1.1102230246251565e-16\n",
      "Random <class 'random.Random'>\n",
      "SG_MAGICCONST 2.504077396776274\n",
      "SystemRandom <class 'random.SystemRandom'>\n",
      "TWOPI 6.283185307179586\n",
      "_ONE 1\n",
      "_Sequence <class 'collections.abc.Sequence'>\n",
      "__all__ ['Random', 'SystemRandom', 'betavariate', 'binomialvariate', 'choice', 'choices', 'expovariate', 'gammavariate', 'gauss', 'getrandbits', 'getstate', 'lognormvariate', 'normalvariate', 'paretovariate', 'randbytes', 'randint', 'random', 'randrange', 'sample', 'seed', 'setstate', 'shuffle', 'triangular', 'uniform', 'vonmisesvariate', 'weibullvariate']\n",
      "__builtins__ {'__name__': 'builtins', '__doc__': \"Built-in functions, types, exceptions, and other objects.\\n\\nThis module provides direct access to all 'built-in'\\nidentifiers of Python; for example, builtins.len is\\nthe full name for the built-in function len().\\n\\nThis module is not normally accessed explicitly by most\\napplications, but can be useful in modules that provide\\nobjects with the same name as a built-in value, but in\\nwhich the built-in of that name is also needed.\", '__package__': '', '__loader__': <class '_frozen_importlib.BuiltinImporter'>, '__spec__': ModuleSpec(name='builtins', loader=<class '_frozen_importlib.BuiltinImporter'>, origin='built-in'), '__build_class__': <built-in function __build_class__>, '__import__': <built-in function __import__>, 'abs': <built-in function abs>, 'all': <built-in function all>, 'any': <built-in function any>, 'ascii': <built-in function ascii>, 'bin': <built-in function bin>, 'breakpoint': <built-in function breakpoint>, 'callable': <built-in function callable>, 'chr': <built-in function chr>, 'compile': <built-in function compile>, 'delattr': <built-in function delattr>, 'dir': <built-in function dir>, 'divmod': <built-in function divmod>, 'eval': <built-in function eval>, 'exec': <built-in function exec>, 'format': <built-in function format>, 'getattr': <built-in function getattr>, 'globals': <built-in function globals>, 'hasattr': <built-in function hasattr>, 'hash': <built-in function hash>, 'hex': <built-in function hex>, 'id': <built-in function id>, 'input': <bound method Kernel.raw_input of <ipykernel.ipkernel.IPythonKernel object at 0x000001F1E87138C0>>, 'isinstance': <built-in function isinstance>, 'issubclass': <built-in function issubclass>, 'iter': <built-in function iter>, 'aiter': <built-in function aiter>, 'len': <built-in function len>, 'locals': <built-in function locals>, 'max': <built-in function max>, 'min': <built-in function min>, 'next': <built-in function next>, 'anext': <built-in function anext>, 'oct': <built-in function oct>, 'ord': <built-in function ord>, 'pow': <built-in function pow>, 'print': <built-in function print>, 'repr': <built-in function repr>, 'round': <built-in function round>, 'setattr': <built-in function setattr>, 'sorted': <built-in function sorted>, 'sum': <built-in function sum>, 'vars': <built-in function vars>, 'None': None, 'Ellipsis': Ellipsis, 'NotImplemented': NotImplemented, 'False': False, 'True': True, 'bool': <class 'bool'>, 'memoryview': <class 'memoryview'>, 'bytearray': <class 'bytearray'>, 'bytes': <class 'bytes'>, 'classmethod': <class 'classmethod'>, 'complex': <class 'complex'>, 'dict': <class 'dict'>, 'enumerate': <class 'enumerate'>, 'filter': <class 'filter'>, 'float': <class 'float'>, 'frozenset': <class 'frozenset'>, 'property': <class 'property'>, 'int': <class 'int'>, 'list': <class 'list'>, 'map': <class 'map'>, 'object': <class 'object'>, 'range': <class 'range'>, 'reversed': <class 'reversed'>, 'set': <class 'set'>, 'slice': <class 'slice'>, 'staticmethod': <class 'staticmethod'>, 'str': <class 'str'>, 'super': <class 'super'>, 'tuple': <class 'tuple'>, 'type': <class 'type'>, 'zip': <class 'zip'>, '__debug__': True, 'BaseException': <class 'BaseException'>, 'BaseExceptionGroup': <class 'BaseExceptionGroup'>, 'Exception': <class 'Exception'>, 'GeneratorExit': <class 'GeneratorExit'>, 'KeyboardInterrupt': <class 'KeyboardInterrupt'>, 'SystemExit': <class 'SystemExit'>, 'ArithmeticError': <class 'ArithmeticError'>, 'AssertionError': <class 'AssertionError'>, 'AttributeError': <class 'AttributeError'>, 'BufferError': <class 'BufferError'>, 'EOFError': <class 'EOFError'>, 'ImportError': <class 'ImportError'>, 'LookupError': <class 'LookupError'>, 'MemoryError': <class 'MemoryError'>, 'NameError': <class 'NameError'>, 'OSError': <class 'OSError'>, 'ReferenceError': <class 'ReferenceError'>, 'RuntimeError': <class 'RuntimeError'>, 'StopAsyncIteration': <class 'StopAsyncIteration'>, 'StopIteration': <class 'StopIteration'>, 'SyntaxError': <class 'SyntaxError'>, 'SystemError': <class 'SystemError'>, 'TypeError': <class 'TypeError'>, 'ValueError': <class 'ValueError'>, 'Warning': <class 'Warning'>, 'FloatingPointError': <class 'FloatingPointError'>, 'OverflowError': <class 'OverflowError'>, 'ZeroDivisionError': <class 'ZeroDivisionError'>, 'BytesWarning': <class 'BytesWarning'>, 'DeprecationWarning': <class 'DeprecationWarning'>, 'EncodingWarning': <class 'EncodingWarning'>, 'FutureWarning': <class 'FutureWarning'>, 'ImportWarning': <class 'ImportWarning'>, 'PendingDeprecationWarning': <class 'PendingDeprecationWarning'>, 'ResourceWarning': <class 'ResourceWarning'>, 'RuntimeWarning': <class 'RuntimeWarning'>, 'SyntaxWarning': <class 'SyntaxWarning'>, 'UnicodeWarning': <class 'UnicodeWarning'>, 'UserWarning': <class 'UserWarning'>, 'BlockingIOError': <class 'BlockingIOError'>, 'ChildProcessError': <class 'ChildProcessError'>, 'ConnectionError': <class 'ConnectionError'>, 'FileExistsError': <class 'FileExistsError'>, 'FileNotFoundError': <class 'FileNotFoundError'>, 'InterruptedError': <class 'InterruptedError'>, 'IsADirectoryError': <class 'IsADirectoryError'>, 'NotADirectoryError': <class 'NotADirectoryError'>, 'PermissionError': <class 'PermissionError'>, 'ProcessLookupError': <class 'ProcessLookupError'>, 'TimeoutError': <class 'TimeoutError'>, 'IndentationError': <class 'IndentationError'>, 'IndexError': <class 'IndexError'>, 'KeyError': <class 'KeyError'>, 'ModuleNotFoundError': <class 'ModuleNotFoundError'>, 'NotImplementedError': <class 'NotImplementedError'>, 'RecursionError': <class 'RecursionError'>, 'UnboundLocalError': <class 'UnboundLocalError'>, 'UnicodeError': <class 'UnicodeError'>, 'BrokenPipeError': <class 'BrokenPipeError'>, 'ConnectionAbortedError': <class 'ConnectionAbortedError'>, 'ConnectionRefusedError': <class 'ConnectionRefusedError'>, 'ConnectionResetError': <class 'ConnectionResetError'>, 'TabError': <class 'TabError'>, 'UnicodeDecodeError': <class 'UnicodeDecodeError'>, 'UnicodeEncodeError': <class 'UnicodeEncodeError'>, 'UnicodeTranslateError': <class 'UnicodeTranslateError'>, 'ExceptionGroup': <class 'ExceptionGroup'>, 'EnvironmentError': <class 'OSError'>, 'IOError': <class 'OSError'>, 'WindowsError': <class 'OSError'>, 'open': <built-in function open>, 'copyright': Copyright (c) 2001-2023 Python Software Foundation.\n",
      "All Rights Reserved.\n",
      "\n",
      "Copyright (c) 2000 BeOpen.com.\n",
      "All Rights Reserved.\n",
      "\n",
      "Copyright (c) 1995-2001 Corporation for National Research Initiatives.\n",
      "All Rights Reserved.\n",
      "\n",
      "Copyright (c) 1991-1995 Stichting Mathematisch Centrum, Amsterdam.\n",
      "All Rights Reserved., 'credits':     Thanks to CWI, CNRI, BeOpen.com, Zope Corporation and a cast of thousands\n",
      "    for supporting Python development.  See www.python.org for more information., 'license': See https://www.python.org/psf/license/, 'help': Type help() for interactive help, or help(object) for help about object., 'execfile': <function execfile at 0x000001F1E73C25C0>, 'runfile': <function runfile at 0x000001F1E74C7560>, '__IPYTHON__': True, 'display': <function display at 0x000001F1E5D428E0>, 'get_ipython': <bound method InteractiveShell.get_ipython of <ipykernel.zmqshell.ZMQInteractiveShell object at 0x000001F1E8754770>>}\n",
      "__cached__ C:\\Users\\student\\anaconda3\\Lib\\__pycache__\\random.cpython-312.pyc\n",
      "__doc__ Random variable generators.\n",
      "\n",
      "    bytes\n",
      "    -----\n",
      "           uniform bytes (values between 0 and 255)\n",
      "\n",
      "    integers\n",
      "    --------\n",
      "           uniform within range\n",
      "\n",
      "    sequences\n",
      "    ---------\n",
      "           pick random element\n",
      "           pick random sample\n",
      "           pick weighted random sample\n",
      "           generate random permutation\n",
      "\n",
      "    distributions on the real line:\n",
      "    ------------------------------\n",
      "           uniform\n",
      "           triangular\n",
      "           normal (Gaussian)\n",
      "           lognormal\n",
      "           negative exponential\n",
      "           gamma\n",
      "           beta\n",
      "           pareto\n",
      "           Weibull\n",
      "\n",
      "    distributions on the circle (angles 0 to 2pi)\n",
      "    ---------------------------------------------\n",
      "           circular uniform\n",
      "           von Mises\n",
      "\n",
      "    discrete distributions\n",
      "    ----------------------\n",
      "           binomial\n",
      "\n",
      "\n",
      "General notes on the underlying Mersenne Twister core generator:\n",
      "\n",
      "* The period is 2**19937-1.\n",
      "* It is one of the most extensively tested generators in existence.\n",
      "* The random() method is implemented in C, executes in a single Python step,\n",
      "  and is, therefore, threadsafe.\n",
      "\n",
      "\n",
      "__file__ C:\\Users\\student\\anaconda3\\Lib\\random.py\n",
      "__loader__ <_frozen_importlib_external.SourceFileLoader object at 0x000001F1E35C5910>\n",
      "__name__ random\n",
      "__package__ \n",
      "__spec__ ModuleSpec(name='random', loader=<_frozen_importlib_external.SourceFileLoader object at 0x000001F1E35C5910>, origin='C:\\\\Users\\\\student\\\\anaconda3\\\\Lib\\\\random.py')\n",
      "_accumulate <class 'itertools.accumulate'>\n",
      "_acos <built-in function acos>\n",
      "_bisect <built-in function bisect_right>\n",
      "_ceil <built-in function ceil>\n",
      "_cos <built-in function cos>\n",
      "_e 2.718281828459045\n",
      "_exp <built-in function exp>\n",
      "_fabs <built-in function fabs>\n",
      "_floor <built-in function floor>\n",
      "_index <built-in function index>\n",
      "_inst <random.Random object at 0x000001F1E3152A50>\n",
      "_isfinite <built-in function isfinite>\n",
      "_lgamma <built-in function lgamma>\n",
      "_log <built-in function log>\n",
      "_log2 <built-in function log2>\n",
      "_os <module 'os' (frozen)>\n",
      "_pi 3.141592653589793\n",
      "_random <module '_random' (built-in)>\n",
      "_repeat <class 'itertools.repeat'>\n",
      "_sha512 <built-in function sha512>\n",
      "_sin <built-in function sin>\n",
      "_sqrt <built-in function sqrt>\n",
      "_test <function _test at 0x000001F1E35E56C0>\n",
      "_test_generator <function _test_generator at 0x000001F1E3593F60>\n",
      "_urandom <built-in function urandom>\n",
      "_warn <built-in function warn>\n",
      "betavariate <bound method Random.betavariate of <random.Random object at 0x000001F1E3152A50>>\n",
      "binomialvariate <bound method Random.binomialvariate of <random.Random object at 0x000001F1E3152A50>>\n",
      "choice <bound method Random.choice of <random.Random object at 0x000001F1E3152A50>>\n",
      "choices <bound method Random.choices of <random.Random object at 0x000001F1E3152A50>>\n",
      "expovariate <bound method Random.expovariate of <random.Random object at 0x000001F1E3152A50>>\n",
      "gammavariate <bound method Random.gammavariate of <random.Random object at 0x000001F1E3152A50>>\n",
      "gauss <bound method Random.gauss of <random.Random object at 0x000001F1E3152A50>>\n",
      "getrandbits <built-in method getrandbits of Random object at 0x000001F1E3152A50>\n",
      "getstate <bound method Random.getstate of <random.Random object at 0x000001F1E3152A50>>\n",
      "lognormvariate <bound method Random.lognormvariate of <random.Random object at 0x000001F1E3152A50>>\n",
      "normalvariate <bound method Random.normalvariate of <random.Random object at 0x000001F1E3152A50>>\n",
      "paretovariate <bound method Random.paretovariate of <random.Random object at 0x000001F1E3152A50>>\n",
      "randbytes <bound method Random.randbytes of <random.Random object at 0x000001F1E3152A50>>\n",
      "randint <bound method Random.randint of <random.Random object at 0x000001F1E3152A50>>\n",
      "random <built-in method random of Random object at 0x000001F1E3152A50>\n",
      "randrange <bound method Random.randrange of <random.Random object at 0x000001F1E3152A50>>\n",
      "sample <bound method Random.sample of <random.Random object at 0x000001F1E3152A50>>\n",
      "seed <bound method Random.seed of <random.Random object at 0x000001F1E3152A50>>\n",
      "setstate <bound method Random.setstate of <random.Random object at 0x000001F1E3152A50>>\n",
      "shuffle <bound method Random.shuffle of <random.Random object at 0x000001F1E3152A50>>\n",
      "triangular <bound method Random.triangular of <random.Random object at 0x000001F1E3152A50>>\n",
      "uniform <bound method Random.uniform of <random.Random object at 0x000001F1E3152A50>>\n",
      "vonmisesvariate <bound method Random.vonmisesvariate of <random.Random object at 0x000001F1E3152A50>>\n",
      "weibullvariate <bound method Random.weibullvariate of <random.Random object at 0x000001F1E3152A50>>\n"
     ]
    }
   ],
   "source": [
    "import inspect\n",
    "x = input(\"Enter built-in module name: \")\n",
    "module = __import__(x)\n",
    "for name, member in inspect.getmembers(module):\n",
    "    print(name, member)"
   ]
  },
  {
   "cell_type": "code",
   "execution_count": 35,
   "id": "ffd78aa6-95c3-40dd-ad54-d7bd1d536e38",
   "metadata": {},
   "outputs": [
    {
     "name": "stdout",
     "output_type": "stream",
     "text": [
      "Enter no. :  52\n"
     ]
    },
    {
     "name": "stdout",
     "output_type": "stream",
     "text": [
      "Even\n"
     ]
    }
   ],
   "source": [
    "n = int(input(\"Enter no. : \"))\n",
    "if n%2==0:\n",
    "    print(\"Even\")\n",
    "else:\n",
    "    print(\"Odd\")"
   ]
  },
  {
   "cell_type": "code",
   "execution_count": 39,
   "id": "81d0602a-1b72-4e0f-88cb-0c35e3230098",
   "metadata": {},
   "outputs": [
    {
     "name": "stdout",
     "output_type": "stream",
     "text": [
      "String 1:  ThaRun\n",
      "String 2:  tharun\n"
     ]
    },
    {
     "name": "stdout",
     "output_type": "stream",
     "text": [
      "Identical but different case\n"
     ]
    }
   ],
   "source": [
    "s1 = input(\"String 1: \")\n",
    "s2 = input(\"String 2: \")\n",
    "if s1 == s2:\n",
    "    print(\"Exactly identical\")\n",
    "elif s1.lower() == s2.lower():\n",
    "    print(\"Identical but different case\")\n",
    "else: print(\"No match\")"
   ]
  },
  {
   "cell_type": "code",
   "execution_count": 42,
   "id": "786c3b53-90dd-4a43-b780-530f63b3074b",
   "metadata": {},
   "outputs": [
    {
     "name": "stdout",
     "output_type": "stream",
     "text": [
      "Enter score out of 100:  90\n"
     ]
    },
    {
     "name": "stdout",
     "output_type": "stream",
     "text": [
      "Congratulations. You are accepted.\n",
      "You are qualified for scholarship\n"
     ]
    }
   ],
   "source": [
    "score = int(input(\"Enter score out of 100: \"))\n",
    "if score>=90 and score<=100:\n",
    "    print(\"Congratulations. You are accepted.\")\n",
    "    print(\"You are qualified for scholarship\")\n",
    "else:\n",
    "    print(\"Better luck next time\")"
   ]
  },
  {
   "cell_type": "code",
   "execution_count": 44,
   "id": "6cdda527-5714-495c-9d08-2bc4934a6d19",
   "metadata": {},
   "outputs": [
    {
     "name": "stdout",
     "output_type": "stream",
     "text": [
      " I belong to 4CBD01\n"
     ]
    },
    {
     "name": "stdout",
     "output_type": "stream",
     "text": [
      "I belong to 4CBD01\n",
      "['I', 'belong', 'to', '4CBD01']\n"
     ]
    }
   ],
   "source": [
    "st = input()\n",
    "st_list = st.split()\n",
    "print(st)\n",
    "print(st_list)"
   ]
  },
  {
   "cell_type": "code",
   "execution_count": 47,
   "id": "165d8047-02ba-4e6e-bee2-e656f2d94e27",
   "metadata": {},
   "outputs": [
    {
     "name": "stdout",
     "output_type": "stream",
     "text": [
      "Enter integers with spaces between:  10 20 30 40 50\n"
     ]
    },
    {
     "name": "stdout",
     "output_type": "stream",
     "text": [
      "Input:  ['10', '20', '30', '40', '50']\n",
      "Output:  10,20,30,40,50\n"
     ]
    }
   ],
   "source": [
    "#split and input function\n",
    "str1 = input(\"Enter integers with spaces between: \")\n",
    "l1 = str1.split()\n",
    "print(\"Input: \",l1)\n",
    "print(\"Output: \",\",\".join(l1))"
   ]
  },
  {
   "cell_type": "code",
   "execution_count": 52,
   "id": "a3e6d8d1-316f-4560-9cf9-5c8e0c2f2f02",
   "metadata": {},
   "outputs": [
    {
     "name": "stdout",
     "output_type": "stream",
     "text": [
      "Input:  10 20 30\n"
     ]
    },
    {
     "name": "stdout",
     "output_type": "stream",
     "text": [
      " a = 10, b = 20 , c = 30\n"
     ]
    }
   ],
   "source": [
    "#split and int function\n",
    "a , b, c = map(int,input(\"Input: \").split())\n",
    "print(f\" a = {a}, b = {b} , c = {c}\")"
   ]
  },
  {
   "cell_type": "code",
   "execution_count": 10,
   "id": "2cbd11b6-2482-4ccf-a676-b0ba5b9a11f1",
   "metadata": {},
   "outputs": [
    {
     "name": "stdout",
     "output_type": "stream",
     "text": [
      "Time (24 hr format):  14\n"
     ]
    },
    {
     "name": "stdout",
     "output_type": "stream",
     "text": [
      "Afternoon\n"
     ]
    }
   ],
   "source": [
    "time = int(input(\"Time (24 hr format): \"))\n",
    "if time in range(12):\n",
    "    print(\"Morning\")\n",
    "elif time==12: \n",
    "    print(\"Noon\")\n",
    "elif time in range(16):\n",
    "    print(\"Afternoon\")\n",
    "elif time in range(19):\n",
    "    print(\"Evening\")\n",
    "elif time in range(24):\n",
    "    print(\"Night\")\n",
    "else:\n",
    "    print(\"Invalid\")"
   ]
  },
  {
   "cell_type": "code",
   "execution_count": 15,
   "id": "024a2866-827f-4500-8de8-b59ccfae609f",
   "metadata": {},
   "outputs": [
    {
     "name": "stdout",
     "output_type": "stream",
     "text": [
      "Enter number :  -96\n"
     ]
    },
    {
     "name": "stdout",
     "output_type": "stream",
     "text": [
      "Negative\n"
     ]
    }
   ],
   "source": [
    "num = int(input(\"Enter number : \"))\n",
    "if num <0:\n",
    "    print(\"Negative\")\n",
    "else:\n",
    "    if num==0:\n",
    "        print(\"Zero\")\n",
    "    else:\n",
    "        print(\"Positive\")"
   ]
  },
  {
   "cell_type": "code",
   "execution_count": 19,
   "id": "9d247815-5cc1-4ee1-b002-a79f759f3355",
   "metadata": {},
   "outputs": [
    {
     "name": "stdout",
     "output_type": "stream",
     "text": [
      "Enter two values:  -6 -10\n"
     ]
    },
    {
     "name": "stdout",
     "output_type": "stream",
     "text": [
      "Both are negative\n"
     ]
    }
   ],
   "source": [
    "a , b = map(int, input(\"Enter two values: \").split())\n",
    "if a>0 and b>0:\n",
    "    print(\"Both are positive\")\n",
    "elif a>0 or b>0:\n",
    "    print(\"Atleast one is positive\")\n",
    "else:\n",
    "    print(\"Both are negative\")"
   ]
  },
  {
   "cell_type": "code",
   "execution_count": 31,
   "id": "2ca02ab4-2bb8-41a1-992c-3898ff16fd76",
   "metadata": {},
   "outputs": [
    {
     "name": "stdout",
     "output_type": "stream",
     "text": [
      "########################################\n",
      "This is David's Fruit shop.\n",
      "1. Apple (Price = 5000 won) \n",
      "2.Grapes (Price = 6000 won)\n",
      "3.Melon (Price: 8000 won) \n",
      "4. Orange (Price: 2000 won)\n",
      "########################################\n"
     ]
    },
    {
     "name": "stdout",
     "output_type": "stream",
     "text": [
      "Enter item no.(1-4) :  1\n",
      "Enter no. of item(1-10) :  6\n"
     ]
    },
    {
     "name": "stdout",
     "output_type": "stream",
     "text": [
      "Total price is 48000 won.\n"
     ]
    },
    {
     "name": "stdout",
     "output_type": "stream",
     "text": [
      "Insert money please:  49000\n"
     ]
    },
    {
     "name": "stdout",
     "output_type": "stream",
     "text": [
      "49000 won received. Your change is 1000 won.\n"
     ]
    }
   ],
   "source": [
    "print(\"#\"*40)\n",
    "print(\"This is David's Fruit shop.\")\n",
    "print(\"1. Apple (Price = 5000 won) \\n2.Grapes (Price = 6000 won)\")\n",
    "print(\"3.Melon (Price: 8000 won) \\n4. Orange (Price: 2000 won)\")\n",
    "print(\"#\"*40)\n",
    "\n",
    "item =0\n",
    "while( item <5):\n",
    "    item = int(input(\"Enter item no.(1-4) : \"))\n",
    "    qno = int(input(\"Enter no. of item(1-10) : \"))\n",
    "    price = [5000,6000,8000,2000]\n",
    "    bill = price[item+1] * qno\n",
    "    print(f\"Total price is {bill} won.\")\n",
    "    amt = int(input(\"Insert money please: \"))\n",
    "    rm = amt-bill\n",
    "    if rm>0:\n",
    "        print(f\"{amt} won received. Your change is {rm} won.\")\n",
    "    elif rm==0:\n",
    "        print(\"Thank you! Visit again\")\n",
    "    else: \n",
    "        print(f\"{abs(rm)} won yet to receive.\")\n",
    "    break \n",
    "else:\n",
    "    print(\"Invalid choice\")\n"
   ]
  },
  {
   "cell_type": "code",
   "execution_count": 36,
   "id": "f8c52b1c-7a91-4d64-983d-2cbd65748c98",
   "metadata": {},
   "outputs": [
    {
     "name": "stdout",
     "output_type": "stream",
     "text": [
      "Enter id:  iloveyou\n"
     ]
    },
    {
     "name": "stdout",
     "output_type": "stream",
     "text": [
      "Welcome\n"
     ]
    }
   ],
   "source": [
    "# ID verification\n",
    "user = \"iloveyou\"\n",
    "s = input(\"Enter id: \")\n",
    "if s==user:\n",
    "    print(\"Welcome\")\n",
    "else:\n",
    "    print(\"ID Not Found\")"
   ]
  },
  {
   "cell_type": "code",
   "execution_count": 39,
   "id": "965be838-a2f6-4a4f-aa17-cc404a64ad84",
   "metadata": {},
   "outputs": [
    {
     "name": "stdout",
     "output_type": "stream",
     "text": [
      "Enter username:  Tharun\n",
      "Enter password:  5423\n"
     ]
    },
    {
     "name": "stdout",
     "output_type": "stream",
     "text": [
      "Invalid password\n"
     ]
    }
   ],
   "source": [
    "# ID and Password Verification\n",
    "user = \"Tharun\"\n",
    "pwd = \"1211\"\n",
    "s1 = input(\"Enter username: \")\n",
    "s2 = input(\"Enter password: \")\n",
    "if s1 == user and s2 == pwd:\n",
    "    print(\"Welcome\")\n",
    "elif s1!=user:\n",
    "    print(\"User not found.\")\n",
    "else:\n",
    "    print(\"Invalid password\")"
   ]
  },
  {
   "cell_type": "code",
   "execution_count": 135,
   "id": "db7acd81-a545-49ef-b1bb-cf83fa93c9ae",
   "metadata": {},
   "outputs": [
    {
     "name": "stdout",
     "output_type": "stream",
     "text": [
      "81\n"
     ]
    }
   ],
   "source": [
    "import random\n",
    "num = random.randint(1,100)\n",
    "print(num)"
   ]
  },
  {
   "cell_type": "code",
   "execution_count": 183,
   "id": "9d931369-f2b8-463e-9080-38110c738b18",
   "metadata": {},
   "outputs": [
    {
     "name": "stdout",
     "output_type": "stream",
     "text": [
      "Coin tossing game\n",
      "Heads\n",
      "Game over\n"
     ]
    }
   ],
   "source": [
    "import random\n",
    "print(\"Coin tossing game\")\n",
    "coin = random.randrange(2)\n",
    "if coin==0:\n",
    "    print(\"Heads\")\n",
    "else:\n",
    "    print(\"Tails\")\n",
    "print(\"Game over\")"
   ]
  },
  {
   "cell_type": "code",
   "execution_count": 190,
   "id": "31aa4288-4c67-49d7-9b06-f8c8047f91d5",
   "metadata": {},
   "outputs": [
    {
     "name": "stdout",
     "output_type": "stream",
     "text": [
      "Enter coordinates:  4 -5\n"
     ]
    },
    {
     "name": "stdout",
     "output_type": "stream",
     "text": [
      "Quadrant 4\n"
     ]
    }
   ],
   "source": [
    "try:\n",
    "    x , y = map (int, input(\"Enter coordinates: \").split())\n",
    "    if x==0 and y==0:\n",
    "        print(\"Origin\")\n",
    "    elif x==0 and y!=0:\n",
    "        print(\"On Y axis\")\n",
    "    elif x!=0 and y==0:\n",
    "        print(\"On X axis\")\n",
    "    elif x>0 and y>0:\n",
    "        print(\"Quadrant 1\")\n",
    "    elif x<0 and y>0:\n",
    "        print(\"Quadrant 2\")\n",
    "    elif x<0 and y<0:\n",
    "        print(\"Quadrant 3\")\n",
    "    elif x>0 and y<0:\n",
    "        print(\"Quadrant 4\")\n",
    "\n",
    "except ValueError:\n",
    "    print(\"Invalid\")"
   ]
  },
  {
   "cell_type": "code",
   "execution_count": 192,
   "id": "31ab8dd9-111c-4b20-b6a3-9f162aba6471",
   "metadata": {},
   "outputs": [
    {
     "name": "stdout",
     "output_type": "stream",
     "text": [
      "All possible combinations of David's Sandwich Shop:\n",
      " Rye bread + Meatball + Lettuce + Mayonnaise \n",
      " Rye bread + Meatball + Lettuce + Honey Mustard \n",
      " Rye bread + Meatball + Lettuce + Chilli \n",
      " Rye bread + Meatball + Tomato + Mayonnaise \n",
      " Rye bread + Meatball + Tomato + Honey Mustard \n",
      " Rye bread + Meatball + Tomato + Chilli \n",
      " Rye bread + Meatball + Cucumber + Mayonnaise \n",
      " Rye bread + Meatball + Cucumber + Honey Mustard \n",
      " Rye bread + Meatball + Cucumber + Chilli \n",
      " Rye bread + Sausage + Lettuce + Mayonnaise \n",
      " Rye bread + Sausage + Lettuce + Honey Mustard \n",
      " Rye bread + Sausage + Lettuce + Chilli \n",
      " Rye bread + Sausage + Tomato + Mayonnaise \n",
      " Rye bread + Sausage + Tomato + Honey Mustard \n",
      " Rye bread + Sausage + Tomato + Chilli \n",
      " Rye bread + Sausage + Cucumber + Mayonnaise \n",
      " Rye bread + Sausage + Cucumber + Honey Mustard \n",
      " Rye bread + Sausage + Cucumber + Chilli \n",
      " Rye bread + Chicken breast + Lettuce + Mayonnaise \n",
      " Rye bread + Chicken breast + Lettuce + Honey Mustard \n",
      " Rye bread + Chicken breast + Lettuce + Chilli \n",
      " Rye bread + Chicken breast + Tomato + Mayonnaise \n",
      " Rye bread + Chicken breast + Tomato + Honey Mustard \n",
      " Rye bread + Chicken breast + Tomato + Chilli \n",
      " Rye bread + Chicken breast + Cucumber + Mayonnaise \n",
      " Rye bread + Chicken breast + Cucumber + Honey Mustard \n",
      " Rye bread + Chicken breast + Cucumber + Chilli \n",
      " Wheat + Meatball + Lettuce + Mayonnaise \n",
      " Wheat + Meatball + Lettuce + Honey Mustard \n",
      " Wheat + Meatball + Lettuce + Chilli \n",
      " Wheat + Meatball + Tomato + Mayonnaise \n",
      " Wheat + Meatball + Tomato + Honey Mustard \n",
      " Wheat + Meatball + Tomato + Chilli \n",
      " Wheat + Meatball + Cucumber + Mayonnaise \n",
      " Wheat + Meatball + Cucumber + Honey Mustard \n",
      " Wheat + Meatball + Cucumber + Chilli \n",
      " Wheat + Sausage + Lettuce + Mayonnaise \n",
      " Wheat + Sausage + Lettuce + Honey Mustard \n",
      " Wheat + Sausage + Lettuce + Chilli \n",
      " Wheat + Sausage + Tomato + Mayonnaise \n",
      " Wheat + Sausage + Tomato + Honey Mustard \n",
      " Wheat + Sausage + Tomato + Chilli \n",
      " Wheat + Sausage + Cucumber + Mayonnaise \n",
      " Wheat + Sausage + Cucumber + Honey Mustard \n",
      " Wheat + Sausage + Cucumber + Chilli \n",
      " Wheat + Chicken breast + Lettuce + Mayonnaise \n",
      " Wheat + Chicken breast + Lettuce + Honey Mustard \n",
      " Wheat + Chicken breast + Lettuce + Chilli \n",
      " Wheat + Chicken breast + Tomato + Mayonnaise \n",
      " Wheat + Chicken breast + Tomato + Honey Mustard \n",
      " Wheat + Chicken breast + Tomato + Chilli \n",
      " Wheat + Chicken breast + Cucumber + Mayonnaise \n",
      " Wheat + Chicken breast + Cucumber + Honey Mustard \n",
      " Wheat + Chicken breast + Cucumber + Chilli \n",
      " White + Meatball + Lettuce + Mayonnaise \n",
      " White + Meatball + Lettuce + Honey Mustard \n",
      " White + Meatball + Lettuce + Chilli \n",
      " White + Meatball + Tomato + Mayonnaise \n",
      " White + Meatball + Tomato + Honey Mustard \n",
      " White + Meatball + Tomato + Chilli \n",
      " White + Meatball + Cucumber + Mayonnaise \n",
      " White + Meatball + Cucumber + Honey Mustard \n",
      " White + Meatball + Cucumber + Chilli \n",
      " White + Sausage + Lettuce + Mayonnaise \n",
      " White + Sausage + Lettuce + Honey Mustard \n",
      " White + Sausage + Lettuce + Chilli \n",
      " White + Sausage + Tomato + Mayonnaise \n",
      " White + Sausage + Tomato + Honey Mustard \n",
      " White + Sausage + Tomato + Chilli \n",
      " White + Sausage + Cucumber + Mayonnaise \n",
      " White + Sausage + Cucumber + Honey Mustard \n",
      " White + Sausage + Cucumber + Chilli \n",
      " White + Chicken breast + Lettuce + Mayonnaise \n",
      " White + Chicken breast + Lettuce + Honey Mustard \n",
      " White + Chicken breast + Lettuce + Chilli \n",
      " White + Chicken breast + Tomato + Mayonnaise \n",
      " White + Chicken breast + Tomato + Honey Mustard \n",
      " White + Chicken breast + Tomato + Chilli \n",
      " White + Chicken breast + Cucumber + Mayonnaise \n",
      " White + Chicken breast + Cucumber + Honey Mustard \n",
      " White + Chicken breast + Cucumber + Chilli \n"
     ]
    }
   ],
   "source": [
    "bread = [\"Rye bread\", \"Wheat\", \"White\"]\n",
    "meat = [\"Meatball\", \"Sausage\", \"Chicken breast\"]\n",
    "vegis = [\"Lettuce\", \"Tomato\", \"Cucumber\"]\n",
    "sauces = [\"Mayonnaise\", \"Honey Mustard\", \"Chilli\"]\n",
    "print(\"All possible combinations of David's Sandwich Shop:\")\n",
    "for a in bread:\n",
    "    for b in meat:\n",
    "        for c in vegis:\n",
    "            for d in sauces:\n",
    "                print(f\" {a} + {b} + {c} + {d} \")"
   ]
  },
  {
   "cell_type": "code",
   "execution_count": 193,
   "id": "026d7f34-caab-4678-9801-5154ac38e4ed",
   "metadata": {},
   "outputs": [
    {
     "name": "stdout",
     "output_type": "stream",
     "text": [
      "V\n",
      "J-Hope\n",
      "RM\n",
      "Jungkook\n",
      "Jin\n",
      "Jimin\n",
      "Suga\n"
     ]
    }
   ],
   "source": [
    "l1 = [\"V\", \"J-Hope\", \"RM\", \"Jungkook\", \"Jin\", \"Jimin\", \"Suga\"]\n",
    "for i in l1:\n",
    "    print(i)"
   ]
  },
  {
   "cell_type": "code",
   "execution_count": 197,
   "id": "2bced9a6-5890-45fb-ba51-46a2d81f3362",
   "metadata": {},
   "outputs": [
    {
     "name": "stdout",
     "output_type": "stream",
     "text": [
      "Sum of integers from 1 to 100:  5050\n",
      "Sum of even numbers from 1 to 100:  2550\n",
      "Sum of odd numbers from 1 to 100:  2500\n"
     ]
    }
   ],
   "source": [
    "n1 = 0\n",
    "n2 = 0\n",
    "n3 =0\n",
    "for i in range(1,101):\n",
    "    n1 += i\n",
    "print(\"Sum of integers from 1 to 100: \",n1)\n",
    "for i in range(2,101,2):\n",
    "    n2 += i\n",
    "print(\"Sum of even numbers from 1 to 100: \",n2)\n",
    "for i in range(1,101,2):\n",
    "    n3 += i\n",
    "print(\"Sum of odd numbers from 1 to 100: \",n3)"
   ]
  },
  {
   "cell_type": "code",
   "execution_count": 3,
   "id": "2eeeb810-002f-4752-90b7-71ccdd8f69f0",
   "metadata": {},
   "outputs": [
    {
     "name": "stdout",
     "output_type": "stream",
     "text": [
      " 1  2  3  4  5\n",
      "10  9  8  7  6\n",
      "11 12 13 14 15\n",
      "20 19 18 17 16\n",
      "21 22 23 24 25\n"
     ]
    }
   ],
   "source": [
    "#Snake matrix\n",
    "n = int(input(\"Enter number: \"))\n",
    "a = [[0]*n for _ in range(n)] \n",
    "seat = 1\n",
    "\n",
    "for i in range(n):\n",
    "    if i % 2 == 0:\n",
    "        for j in range(n):\n",
    "            a[i][j] = seat\n",
    "            seat += 1\n",
    "    else:\n",
    "        for j in range(n-1, -1, -1):\n",
    "            a[i][j] = seat\n",
    "            seat += 1\n",
    "matrix = [\" \".join(f\"{num:2}\" for num in row) for row in a]\n",
    "for i in matrix:\n",
    "    print(f\"{str(i)}\")"
   ]
  },
  {
   "cell_type": "code",
   "execution_count": null,
   "id": "c4e6af29-d15e-45f7-97b6-cdaeec8f7f6b",
   "metadata": {},
   "outputs": [],
   "source": [
    "# June 16 2025"
   ]
  },
  {
   "cell_type": "code",
   "execution_count": 9,
   "id": "1a7ca089-2d2a-4a73-a6cc-2918ef2d9124",
   "metadata": {},
   "outputs": [
    {
     "name": "stdout",
     "output_type": "stream",
     "text": [
      "Enter number (1-100):  60\n"
     ]
    },
    {
     "name": "stdout",
     "output_type": "stream",
     "text": [
      "Higher!\n"
     ]
    },
    {
     "name": "stdout",
     "output_type": "stream",
     "text": [
      "Enter number (1-100):  40\n"
     ]
    },
    {
     "name": "stdout",
     "output_type": "stream",
     "text": [
      "Higher!\n"
     ]
    },
    {
     "name": "stdout",
     "output_type": "stream",
     "text": [
      "Enter number (1-100):  20\n"
     ]
    },
    {
     "name": "stdout",
     "output_type": "stream",
     "text": [
      "Higher!\n"
     ]
    },
    {
     "name": "stdout",
     "output_type": "stream",
     "text": [
      "Enter number (1-100):  10\n"
     ]
    },
    {
     "name": "stdout",
     "output_type": "stream",
     "text": [
      "Lower!\n"
     ]
    },
    {
     "name": "stdout",
     "output_type": "stream",
     "text": [
      "Enter number (1-100):  15\n"
     ]
    },
    {
     "name": "stdout",
     "output_type": "stream",
     "text": [
      "Higher!\n"
     ]
    },
    {
     "name": "stdout",
     "output_type": "stream",
     "text": [
      "Enter number (1-100):  13\n"
     ]
    },
    {
     "name": "stdout",
     "output_type": "stream",
     "text": [
      "Higher!\n"
     ]
    },
    {
     "name": "stdout",
     "output_type": "stream",
     "text": [
      "Enter number (1-100):  11\n"
     ]
    },
    {
     "name": "stdout",
     "output_type": "stream",
     "text": [
      "Lower!\n"
     ]
    },
    {
     "name": "stdout",
     "output_type": "stream",
     "text": [
      "Enter number (1-100):  12\n"
     ]
    },
    {
     "name": "stdout",
     "output_type": "stream",
     "text": [
      "You guessed correctly in 7 tries.\n"
     ]
    }
   ],
   "source": [
    "import random\n",
    "cp = random.randint(1,101)\n",
    "user = int(input(\"Enter number (1-100): \"))\n",
    "count=0\n",
    "while user != cp:\n",
    "    if user < cp:\n",
    "        print(\"Lower!\")\n",
    "    elif user >cp:\n",
    "        print(\"Higher!\")\n",
    "    count+=1\n",
    "    user = int(input(\"Enter number (1-100): \"))\n",
    "print(f\"You guessed correctly in {count} tries.\")"
   ]
  },
  {
   "cell_type": "code",
   "execution_count": 38,
   "id": "b73774df-b143-4f23-b4a8-7f229caad733",
   "metadata": {},
   "outputs": [
    {
     "name": "stdout",
     "output_type": "stream",
     "text": [
      "rock / paper/ scissor:  rock\n"
     ]
    },
    {
     "name": "stdout",
     "output_type": "stream",
     "text": [
      "You win\n"
     ]
    },
    {
     "name": "stdout",
     "output_type": "stream",
     "text": [
      "rock / paper/ scissor:  rock\n"
     ]
    },
    {
     "name": "stdout",
     "output_type": "stream",
     "text": [
      "You win\n"
     ]
    },
    {
     "name": "stdout",
     "output_type": "stream",
     "text": [
      "rock / paper/ scissor:  paper\n"
     ]
    },
    {
     "name": "stdout",
     "output_type": "stream",
     "text": [
      "You win\n",
      "Your score: 3 out of 3\n"
     ]
    }
   ],
   "source": [
    "# Rock , Paper and Scissor\n",
    "import random\n",
    "count =0\n",
    "win =0\n",
    "while count<3:\n",
    "    comp = random.choice([\"rock\",\"paper\",\"scissor\"])\n",
    "    user = input(\"rock / paper/ scissor: \")\n",
    "    if comp==user:\n",
    "        print(\"Draw\")\n",
    "        count -= 1\n",
    "    elif user == \"rock\" and comp in (\"paper\",\"scissor\"):\n",
    "        print(\"You win\")\n",
    "        win += 1\n",
    "    elif (user == \"rock\" and comp == \"paper\") or (user == \"paper\" and comp == \"scissor\"):\n",
    "        print(\"You lose\")\n",
    "    elif (user == \"paper\" and comp == \"rock\") or (user == \"scissor\" and comp == \"paper\"):\n",
    "        print(\"You win\")\n",
    "        win += 1\n",
    "    count += 1\n",
    "print(f\"Your score: {win} out of 3\")"
   ]
  },
  {
   "cell_type": "code",
   "execution_count": 2,
   "id": "7888ad20-da68-4ab2-b0c9-9225c3affb85",
   "metadata": {},
   "outputs": [
    {
     "name": "stdout",
     "output_type": "stream",
     "text": [
      "46.0\n"
     ]
    }
   ],
   "source": [
    "# Name , Age, Gender, Height, Weight\n",
    "a1 = [\"Tharun\", 20, \"M\", 167.5, 55]\n",
    "a2 = [\"Joshua\", 20, \"M\", 175, 80]\n",
    "a3 = [\"Dhanushree\", 120, \"F\", 164, 50]\n",
    "a4 = [\"Thribhuvan\", 70,\"M\",155,48]\n",
    "person = a1 + a2 + a3 + a4\n",
    "sum = 0\n",
    "n = int(len(person)/4)\n",
    "for i in person[1::5]:\n",
    "    sum += i\n",
    "avg=float(sum)/n\n",
    "print(avg)"
   ]
  },
  {
   "cell_type": "code",
   "execution_count": 28,
   "id": "f5617801-8328-4365-815d-92ae743d5391",
   "metadata": {},
   "outputs": [
    {
     "name": "stdout",
     "output_type": "stream",
     "text": [
      "Initial : ['a', 'b', 'c']\n",
      "After append: ['a', 'b', 'c', 1]\n",
      "['a', 'b', 'c', 1, [55, 66]]\n",
      "After extend: ['a', 'b', 'c', 1, [55, 66], 55, 66]\n",
      "Popped element :  66\n",
      "After pop: ['a', 'b', 'c', 1, [55, 66], 55]\n",
      "Ater removing 1, ['a', 'b', 'c', [55, 66], 55]\n",
      "After using del for index 3, ['a', 'b', 'c', 55]\n"
     ]
    }
   ],
   "source": [
    "#List operations\n",
    "\n",
    "abc = ['a','b','c']\n",
    "print(f\"Initial : {abc}\")\n",
    "abc.append(1)\n",
    "print(f\"After append: {abc}\")           #append function\n",
    "abc.append([55,66])\n",
    "print(abc)\n",
    "abc.extend([55,66])                     #extend function\n",
    "print(f\"After extend: {abc}\")\n",
    "print(\"Popped element : \",abc.pop())    #pop function\n",
    "print(f\"After pop: {abc}\")\n",
    "abc.remove(1)                           #remove function\n",
    "print(f\"Ater removing 1, {abc}\")\n",
    "del abc[3]                              #del function\n",
    "print(f\"After using del for index 3, {abc}\")"
   ]
  },
  {
   "cell_type": "code",
   "execution_count": null,
   "id": "417badbb-5786-4f61-9d76-95fc4a015ace",
   "metadata": {},
   "outputs": [],
   "source": [
    "#List slicing \n",
    "a = [1,2,3,4,5,6,7,8,9,0]\n",
    "print(a[1::-1])\n",
    "print(a[4:1:-1])\n",
    "print(a[::])\n",
    "print(a[::-1])\n",
    "print(a[1:4])\n",
    "print(a[1:7:3])"
   ]
  },
  {
   "cell_type": "code",
   "execution_count": 53,
   "id": "63b814bd-3455-49ed-bade-91a692431bba",
   "metadata": {},
   "outputs": [
    {
     "name": "stdout",
     "output_type": "stream",
     "text": [
      "False\n",
      "True\n",
      "1 2 3 4 5 6 "
     ]
    }
   ],
   "source": [
    "a = [1,2,3,4,5,6]\n",
    "print(50 in a)\n",
    "print(3 in a)\n",
    "for i in a:\n",
    "    print(i,end = \" \")"
   ]
  },
  {
   "cell_type": "code",
   "execution_count": 60,
   "id": "9c4e8814-8335-4429-8538-71b7fcb2ff21",
   "metadata": {},
   "outputs": [
    {
     "name": "stdout",
     "output_type": "stream",
     "text": [
      "[2, 3, 5, 7]\n",
      "1st element of Prime_list: 2\n"
     ]
    }
   ],
   "source": [
    "#Prime list\n",
    "\n",
    "pl = []\n",
    "for i in range(2, 11):\n",
    "    is_prime = True\n",
    "    for j in range(2, i): \n",
    "        if i%j == 0:\n",
    "            is_prime = False\n",
    "            break\n",
    "    if is_prime:\n",
    "        pl.append(i)\n",
    "\n",
    "print(pl)\n",
    "print(f\"1st element of Prime_list: {pl[0]}\")"
   ]
  },
  {
   "cell_type": "code",
   "execution_count": 61,
   "id": "5a5a17a4-1c4b-40db-8e1f-a47ac4cdc222",
   "metadata": {},
   "outputs": [
    {
     "name": "stdout",
     "output_type": "stream",
     "text": [
      "Before: []\n",
      "After addition: [2, 3, 5, 7]\n"
     ]
    }
   ],
   "source": [
    "pl = []\n",
    "print(f\"Before: {pl}\")\n",
    "for i in range(2, 11):\n",
    "    is_prime = True\n",
    "    for j in range(2, i): \n",
    "        if i%j == 0:\n",
    "            is_prime = False\n",
    "            break\n",
    "    if is_prime:\n",
    "        pl.append(i)\n",
    "\n",
    "print(f\"After addition: {pl}\")"
   ]
  },
  {
   "cell_type": "code",
   "execution_count": 63,
   "id": "97b2e894-5fc6-4dc6-af5a-51c97b34e6a9",
   "metadata": {},
   "outputs": [
    {
     "name": "stdout",
     "output_type": "stream",
     "text": [
      "3 * 2 = 6\n",
      "3 * 3 = 9\n",
      "3 * 4 = 12\n",
      "3 * 5 = 15\n",
      "3 * 6 = 18\n",
      "5 * 2 = 10\n",
      "5 * 3 = 15\n",
      "5 * 4 = 20\n",
      "5 * 5 = 25\n",
      "5 * 6 = 30\n",
      "7 * 2 = 14\n",
      "7 * 3 = 21\n",
      "7 * 4 = 28\n",
      "7 * 5 = 35\n",
      "7 * 6 = 42\n"
     ]
    }
   ],
   "source": [
    "l1 = [3,5,7]\n",
    "l2 = [2,3,4,5,6]\n",
    "for i in l1:\n",
    "    for j in l2:\n",
    "        print(f\"{i} * {j} = {i*j}\")"
   ]
  },
  {
   "cell_type": "code",
   "execution_count": 2,
   "id": "ac449a8d-7dce-4733-97a0-ab2188a055ab",
   "metadata": {},
   "outputs": [
    {
     "name": "stdout",
     "output_type": "stream",
     "text": [
      "[10, 20, 30, 40, 50, 60]\n",
      "Length: 6\n",
      "Sum of list:  210\n",
      "Max element: 60\n",
      "Min element: 10\n",
      "True\n"
     ]
    }
   ],
   "source": [
    "nl = [10,20,30,40,50,60]\n",
    "print(nl)\n",
    "print(f\"Length: {len(nl)}\")\n",
    "print(f\"Sum of list: \",sum(nl))\n",
    "print(f\"Max element: {max(nl)}\")\n",
    "print(f\"Min element: {min(nl)}\")\n",
    "print(any(nl))\n"
   ]
  },
  {
   "cell_type": "code",
   "execution_count": 10,
   "id": "f96d9823-de46-4b39-8994-7deaa140c586",
   "metadata": {},
   "outputs": [
    {
     "name": "stdout",
     "output_type": "stream",
     "text": [
      " 1 2 56 84 32 02 96\n"
     ]
    },
    {
     "name": "stdout",
     "output_type": "stream",
     "text": [
      "[1, 2, 56, 84, 32, 2, 96]\n",
      "Ascending order: [1, 2, 2, 32, 56, 84, 96]\n",
      "Descending order: [96, 84, 56, 32, 2, 2, 1]\n"
     ]
    }
   ],
   "source": [
    "# Sorting list\n",
    "n = list(map(int, input(\"\").split()))\n",
    "print(n)\n",
    "asc = sorted(n)\n",
    "des = sorted(n,reverse = True)\n",
    "print(f\"Ascending order: {asc}\")\n",
    "print(f\"Descending order: {des}\")"
   ]
  },
  {
   "cell_type": "code",
   "execution_count": 35,
   "id": "4bc3081a-1300-440e-804c-c423168ec6cc",
   "metadata": {},
   "outputs": [
    {
     "name": "stdout",
     "output_type": "stream",
     "text": [
      "bcd\n"
     ]
    }
   ],
   "source": [
    "# First Shortest string of given list without using min or sort function\n",
    "\n",
    "lt = ['abcd','bcd','bcdefg','abba','cddc','opq']\n",
    "short = lt[0]\n",
    "n = len(short)\n",
    "for i in lt:\n",
    "    if n>len(i):\n",
    "        n = len(i)\n",
    "        short = i\n",
    "print(short)"
   ]
  },
  {
   "cell_type": "code",
   "execution_count": 38,
   "id": "627b0da4-c50d-46ee-a7e9-3798108a1927",
   "metadata": {},
   "outputs": [
    {
     "name": "stdout",
     "output_type": "stream",
     "text": [
      "abbahtg\n"
     ]
    }
   ],
   "source": [
    "#Longest string of given list without using min or sort function\n",
    "\n",
    "lt = ['abcd','bcd','bcdefg','abbahtg','cddc','opq']\n",
    "long = lt[0]\n",
    "n = len(long)\n",
    "for i in lt:\n",
    "    if n<len(i):\n",
    "        n = len(i)\n",
    "        long = i\n",
    "print(long)"
   ]
  },
  {
   "cell_type": "code",
   "execution_count": 41,
   "id": "bc84c0ab-ff8d-4334-aa4d-f02e6812651a",
   "metadata": {},
   "outputs": [
    {
     "name": "stdout",
     "output_type": "stream",
     "text": [
      "['bcd', 'opq']\n"
     ]
    }
   ],
   "source": [
    "# ALl shorter strings of given list using sort(key=len) function\n",
    "\n",
    "lt = ['abcd','bcd','bcdefg','abbahtg','cddc','opq']\n",
    "shorter = []\n",
    "lt.sort(key=len)\n",
    "length = len(lt[0])\n",
    "for i in lt:\n",
    "    if len(i) == length:\n",
    "        shorter.append(i)\n",
    "print(shorter)"
   ]
  },
  {
   "cell_type": "code",
   "execution_count": 60,
   "id": "fbeffe97-00c7-4b5b-8671-a5572b1e026d",
   "metadata": {},
   "outputs": [
    {
     "name": "stdout",
     "output_type": "stream",
     "text": [
      "Initial menu\n",
      " Americano : 3000 \n",
      " Ice Americano : 3500 \n",
      " Cappuchino : 4000 \n",
      " Cafe Latte : 4500 \n",
      " Espresso : 3600 \n",
      "Alphabetical order: \n",
      " Americano : 3000\n",
      " Cafe Latte : 4500\n",
      " Cappuchino : 4000\n",
      " Espresso : 3600\n",
      " Ice Americano : 3500\n"
     ]
    }
   ],
   "source": [
    "# CAFE menu\n",
    "menu = { 'Americano' : 3000, 'Ice Americano' : 3500, 'Cappuchino' : 4000, 'Cafe Latte' : 4500, 'Espresso' : 3600 }\n",
    "print(\"Initial menu\")\n",
    "for key in menu:\n",
    "    print(f\" {key} : {menu[key]} \")\n",
    "order_menu = dict(sorted(menu.items(), key = lambda x:x[0]))\n",
    "print(\"Alphabetical order: \")\n",
    "for key in order_menu:\n",
    "    print(f\" {key} : {order_menu[key]}\")"
   ]
  },
  {
   "cell_type": "code",
   "execution_count": 1,
   "id": "5097b7fd-98d8-4279-aeaf-14176943e9cf",
   "metadata": {},
   "outputs": [],
   "source": [
    "# June 17 2025"
   ]
  },
  {
   "cell_type": "code",
   "execution_count": 15,
   "id": "899086e7-b909-4331-961a-ba183a200357",
   "metadata": {},
   "outputs": [
    {
     "name": "stdout",
     "output_type": "stream",
     "text": [
      "{'Americano': 3000, 'Ice Americano': 3500, 'Cappuchino': 4000, 'Cafe Latte': 4500, 'Espresso': 3600}\n"
     ]
    },
    {
     "name": "stdout",
     "output_type": "stream",
     "text": [
      "Enter your choice:  Americano Coftea Cappuchino\n",
      "Quantity:  3\n"
     ]
    },
    {
     "name": "stdout",
     "output_type": "stream",
     "text": [
      "Sorry Coftea item not available\n"
     ]
    },
    {
     "name": "stdout",
     "output_type": "stream",
     "text": [
      "Quantity:  4\n"
     ]
    },
    {
     "name": "stdout",
     "output_type": "stream",
     "text": [
      "Your total bill: Rs.25000\n"
     ]
    }
   ],
   "source": [
    "# 4CBD01 CAFE\n",
    "\n",
    "dict1 = { 'Americano' : 3000, 'Ice Americano' : 3500, 'Cappuchino' : 4000, 'Cafe Latte' : 4500, 'Espresso' : 3600 }\n",
    "print(dict1)\n",
    "bill=0\n",
    "ch = input(\"Enter your choice: \").split()\n",
    "for i in ch:\n",
    "    if i in dict1.keys():\n",
    "        qt = int(input(\"Quantity: \"))\n",
    "        bill += dict1[i]*qt\n",
    "    else:\n",
    "        print(f\"Sorry {i} item not available\")\n",
    "print(f\"Your total bill: Rs.{bill}\")"
   ]
  },
  {
   "cell_type": "code",
   "execution_count": 1,
   "id": "c140a549-fa39-451c-83d2-d53685e07d96",
   "metadata": {},
   "outputs": [
    {
     "name": "stdout",
     "output_type": "stream",
     "text": [
      "Name : Tharun Krishna\n",
      "Hobby : Irritate Nagavalli\n",
      "Description : Founder of NIMHANS\n",
      "Colleagues [NIMHANS]  : ['Dhanushree', 'Thribhuvan', 'Thrisha']\n",
      "Higher officials : ['Kavya (a.k.a Maximom)', 'Sandhya (a.k.a Minimom)']\n"
     ]
    }
   ],
   "source": [
    "info = {}\n",
    "#Insert elements\n",
    "info[\"Name\"] = \"Tharun Krishna\"\n",
    "info[\"Age\"] = 20\n",
    "info[\"Hobby\"] = \"Irritate Nagavalli\"\n",
    "info[\"Description\"] = \"Founder of NIMHANS\"\n",
    "info[\"Colleagues [NIMHANS] \"] = ['Dhanushree','Thribhuvan','Thrisha']\n",
    "info[\"Higher officials\"] = ['Kavya (a.k.a Maximom)','Sandhya (a.k.a Minimom)']\n",
    "#Delete element\n",
    "del info[\"Age\"]\n",
    "#Print dictionary\n",
    "for key, value in info.items():\n",
    "    print(f\"{key} : {value}\")"
   ]
  },
  {
   "cell_type": "code",
   "execution_count": 22,
   "id": "731b53ff-a180-468c-ac4f-95e25267e764",
   "metadata": {},
   "outputs": [
    {
     "name": "stdout",
     "output_type": "stream",
     "text": [
      " 1 96 5 63 48 21 70 50\n"
     ]
    },
    {
     "name": "stdout",
     "output_type": "stream",
     "text": [
      "[1, 5, 21, 48, 50, 63, 70, 96]\n"
     ]
    }
   ],
   "source": [
    "def mergeSort(A):\n",
    "    if len(A) <= 1:\n",
    "        return\n",
    "    mid = len(A) // 2\n",
    "    \n",
    "    B = A[0:mid]\n",
    "    C = A[mid:len(A)]\n",
    " \n",
    "    mergeSort(B)\n",
    "    mergeSort(C)\n",
    "    i = j = k = 0\n",
    "  \n",
    "    while i < len(B) and j < len(C):\n",
    "        if B[i] < C[j]:\n",
    "            A[k] = B[i]\n",
    "            i += 1\n",
    "        else:\n",
    "            A[k] = C[j]\n",
    "            j += 1\n",
    "        k += 1\n",
    "    \n",
    "    while i < len(B):  \n",
    "        A[k] = B[i]\n",
    "        i += 1\n",
    "        k += 1\n",
    "\n",
    "    while j < len(C):                          \n",
    "        A[k] = C[j] \n",
    "        j += 1\n",
    "        k += 1\n",
    "\n",
    "if __name__ == '__main__':\n",
    "    A = list(map(int, input().split()))\n",
    "    mergeSort(A)\n",
    "    print(A)"
   ]
  },
  {
   "cell_type": "code",
   "execution_count": 2,
   "id": "da36b106-4421-4a31-8da0-046f9ed0bc7d",
   "metadata": {},
   "outputs": [
    {
     "name": "stdout",
     "output_type": "stream",
     "text": [
      " 9 27\n"
     ]
    },
    {
     "name": "stdout",
     "output_type": "stream",
     "text": [
      "------------.|.------------\n",
      "---------.|..|..|.---------\n",
      "------.|..|..|..|..|.------\n",
      "---.|..|..|..|..|..|..|.---\n",
      "----------WELCOME----------\n",
      "---.|..|..|..|..|..|..|.---\n",
      "------.|..|..|..|..|.------\n",
      "---------.|..|..|.---------\n",
      "------------.|.------------\n"
     ]
    }
   ],
   "source": [
    "n , m=map(int,input().split())\n",
    "for i in range(1,n,2):\n",
    "    (print(\"-\"*((m-(i*3))//2) + \".|.\"*i + \"-\"*((m-(i*3))//2)))\n",
    "print(\"-\"*((m-7)//2) + \"WELCOME\" + \"-\"*((m-7)//2))\n",
    "for i in range(n-2,0,-2):\n",
    "    print(\"-\"*((m-(i*3))//2) + \".|.\"*i + \"-\"*((m-(i*3))//2))"
   ]
  },
  {
   "cell_type": "code",
   "execution_count": 1,
   "id": "2808cc5e-bc2b-4346-80d2-efb763768ee7",
   "metadata": {},
   "outputs": [],
   "source": [
    "#June 18 2025"
   ]
  },
  {
   "cell_type": "code",
   "execution_count": 3,
   "id": "0d310275-d448-410b-8e46-843ec933eff2",
   "metadata": {},
   "outputs": [
    {
     "name": "stdout",
     "output_type": "stream",
     "text": [
      "Enter no of rows:  5\n"
     ]
    },
    {
     "name": "stdout",
     "output_type": "stream",
     "text": [
      "    |     \n",
      "   |||    \n",
      "  |||||   \n",
      " |||||||  \n",
      "||||||||| \n",
      " ||||||| \n",
      "  |||||  \n",
      "   |||   \n",
      "    |    \n"
     ]
    }
   ],
   "source": [
    "n = int(input(\"Enter no of rows: \"))\n",
    "for i in range(1,2*n,2):\n",
    "    print((\"|\"*i).center(2*n))\n",
    "for i in range(2*n-3,0,-2):\n",
    "    print((\"|\"*i).center(2*n-1))"
   ]
  },
  {
   "cell_type": "code",
   "execution_count": 4,
   "id": "2c6ce4dd-59ce-40f4-b3ce-fd79af435732",
   "metadata": {},
   "outputs": [
    {
     "name": "stdout",
     "output_type": "stream",
     "text": [
      "Enter no of rows:  5\n"
     ]
    },
    {
     "name": "stdout",
     "output_type": "stream",
     "text": [
      "|         \n",
      "|||       \n",
      "|||||     \n",
      "|||||||   \n",
      "||||||||| \n",
      "|||||||  \n",
      "|||||    \n",
      "|||      \n",
      "|        \n"
     ]
    }
   ],
   "source": [
    "n = int(input(\"Enter no of rows: \"))\n",
    "for i in range(1,2*n,2):\n",
    "    print((\"|\"*i).ljust(2*n))\n",
    "for i in range(2*n-3,0,-2):\n",
    "    print((\"|\"*i).ljust(2*n-1))"
   ]
  },
  {
   "cell_type": "code",
   "execution_count": 30,
   "id": "7476747b-1494-4daa-8a4d-6ff96fe97e00",
   "metadata": {},
   "outputs": [
    {
     "name": "stdout",
     "output_type": "stream",
     "text": [
      "Enter odd number:  5\n"
     ]
    },
    {
     "name": "stdout",
     "output_type": "stream",
     "text": [
      "         #\n",
      "       ###\n",
      "     #####\n",
      "   #######\n",
      " #########\n",
      "   #######\n",
      "     #####\n",
      "       ###\n",
      "         #\n"
     ]
    }
   ],
   "source": [
    "n = int(input(\"Enter odd number: \"))\n",
    "for i in range(1,2*n,2):\n",
    "    print((\"#\"*i).rjust(2*n))\n",
    "for i in range(2*n-3,0,-2):\n",
    "    print((\"#\"*i).rjust(2*n))"
   ]
  },
  {
   "cell_type": "code",
   "execution_count": 31,
   "id": "5700951a-6cac-449f-a4bd-11c4318b9c62",
   "metadata": {},
   "outputs": [
    {
     "name": "stdout",
     "output_type": "stream",
     "text": [
      "Enter odd number:  5\n"
     ]
    },
    {
     "name": "stdout",
     "output_type": "stream",
     "text": [
      "|                  |\n",
      "|||              |||\n",
      "|||||          |||||\n",
      "|||||||      |||||||\n",
      "|||||||||  |||||||||\n",
      "|||||||      |||||||\n",
      "|||||          |||||\n",
      "|||              |||\n",
      "|                  |\n"
     ]
    }
   ],
   "source": [
    "n = int(input(\"Enter odd number: \"))\n",
    "for i in range(1,2*n,2):\n",
    "    print((\"|\"*i).ljust(2*n) + (\"|\"*i).rjust(2*n))\n",
    "for i in range(2*n-3,0,-2):\n",
    "    print((\"|\"*i).ljust(2*n-1) + (\"|\"*i).rjust(2*n+1))"
   ]
  },
  {
   "cell_type": "code",
   "execution_count": 34,
   "id": "0cf9a952-a9e9-4a1d-9458-04ab7dba4d3d",
   "metadata": {},
   "outputs": [
    {
     "name": "stdout",
     "output_type": "stream",
     "text": [
      "Enter odd number:  7\n"
     ]
    },
    {
     "name": "stdout",
     "output_type": "stream",
     "text": [
      "             <>             \n",
      "           <<<>>>           \n",
      "         <<<<<>>>>>         \n",
      "       <<<<<<<>>>>>>>        \n",
      "         <<<<<>>>>>          \n",
      "           <<<>>>            \n",
      "             <>              \n"
     ]
    }
   ],
   "source": [
    "n = int(input(\"Enter odd number: \"))\n",
    "for i in range(1,n,2):\n",
    "    print((\"<\"*i).rjust(2*n) + (\">\"*i).ljust(2*n))\n",
    "for i in range(n,0,-2):\n",
    "    print((\"<\"*i).rjust(2*n) + (\">\"*i).ljust(2*n+1))"
   ]
  },
  {
   "cell_type": "code",
   "execution_count": 4,
   "id": "2a32ad7b-0912-4af2-bb24-69d998b9d1b6",
   "metadata": {},
   "outputs": [
    {
     "name": "stdout",
     "output_type": "stream",
     "text": [
      "Name : Tharun Krishna\n",
      "Age : 20\n",
      "Hobby : Music\n",
      "Family : {'Father': 'Pazhani', 'Mother': 'Yashoda'}\n",
      "Married : True\n",
      "<class 'dict'>\n"
     ]
    },
    {
     "data": {
      "text/plain": [
       "'Tharun Krishna'"
      ]
     },
     "execution_count": 4,
     "metadata": {},
     "output_type": "execute_result"
    }
   ],
   "source": [
    "import json\n",
    "data = '{\"Name\" : \"Tharun Krishna\" , \"Age\" : 20, \"Hobby\" : \"Music\", \"Family\" : {\"Father\" : \"Pazhani\", \"Mother\" : \"Yashoda\"}, \"Married\" : true}'\n",
    "jd = json.loads(data)\n",
    "for key,value in jd.items():\n",
    "    print(f\"{key} : {value}\")\n",
    "print(type(jd))\n",
    "with open('info.json','w') as f:\n",
    "    json.dump(jd, f, indent ='\\n')\n",
    "jd.pop(\"Name\")"
   ]
  }
 ],
 "metadata": {
  "kernelspec": {
   "display_name": "Python 3",
   "language": "python",
   "name": "python3"
  },
  "language_info": {
   "codemirror_mode": {
    "name": "ipython",
    "version": 3
   },
   "file_extension": ".py",
   "mimetype": "text/x-python",
   "name": "python",
   "nbconvert_exporter": "python",
   "pygments_lexer": "ipython3",
   "version": "3.13.5"
  }
 },
 "nbformat": 4,
 "nbformat_minor": 5
}
